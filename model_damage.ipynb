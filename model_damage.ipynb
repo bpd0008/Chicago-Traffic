{
 "cells": [
  {
   "cell_type": "code",
   "execution_count": 45,
   "metadata": {},
   "outputs": [],
   "source": [
    "import json\n",
    "import os\n",
    "import sklearn\n",
    "import numpy\n",
    "import xgboost as xgb\n",
    "from sklearn.datasets import make_multilabel_classification\n",
    "from sklearn.model_selection import train_test_split\n",
    "from sklearn.multioutput import MultiOutputClassifier\n",
    "from sklearn.metrics import accuracy_score\n",
    "from collections import namedtuple\n",
    "import sys\n",
    "from math import log,tan,pi,radians\n",
    "import pandas as pd\n",
    "from sodapy import Socrata\n",
    "from config import CHI_API_KEY\n",
    "from numpy import array\n",
    "from numpy import argmax\n",
    "from sklearn.preprocessing import LabelEncoder\n",
    "from sklearn.preprocessing import OneHotEncoder"
   ]
  },
  {
   "cell_type": "code",
   "execution_count": 46,
   "metadata": {},
   "outputs": [],
   "source": [
    "df = pd.read_csv(\"hoods.csv\")"
   ]
  },
  {
   "cell_type": "code",
   "execution_count": 47,
   "metadata": {},
   "outputs": [],
   "source": [
    "df.drop([\"Unnamed: 0\"], axis=1, inplace=True)"
   ]
  },
  {
   "cell_type": "code",
   "execution_count": 65,
   "metadata": {},
   "outputs": [
    {
     "data": {
      "text/plain": [
       "<bound method NDFrame.describe of                                           crash_record_id  \\\n",
       "0       c866f3095932bfe799226e255e1079fc2bbc49bb8fe376...   \n",
       "1       725c92ece43c197a378a4f774e50ad15a4c25360ad5045...   \n",
       "2       71b14bfa4ef2da35945350552503128df47a45952f0805...   \n",
       "3       79c45fc1ecbe1902dc6cef723573607eeca83d33a5d329...   \n",
       "4       49269ed31a112084261ca43ff3934714374c1e6aa4c36b...   \n",
       "...                                                   ...   \n",
       "453925  964aaaeb569e364886cfbdf89ca73e09ca15cd916d87b2...   \n",
       "453926  1d0232afecbdfd01968555aa956a688fd6f55a2bd1984f...   \n",
       "453927  957783a4787318f005a7dbc920e4c84cb9ac8aa7329a62...   \n",
       "453928  f62e27317feb174811cf4fefeb9fa1064fea6c0619a873...   \n",
       "453929  a802658be15312809c771559e4f81088cfb226830792a5...   \n",
       "\n",
       "                     crash_date  posted_speed_limit traffic_control_device  \\\n",
       "0       2020-11-19T00:25:00.000                  30         TRAFFIC SIGNAL   \n",
       "1       2020-11-18T23:00:00.000                  30            NO CONTROLS   \n",
       "2       2020-11-18T22:53:00.000                  30         TRAFFIC SIGNAL   \n",
       "3       2020-11-18T22:31:00.000                  35         TRAFFIC SIGNAL   \n",
       "4       2020-11-18T21:10:00.000                  25      STOP SIGN/FLASHER   \n",
       "...                         ...                 ...                    ...   \n",
       "453925  2014-06-25T19:00:00.000                  30            NO CONTROLS   \n",
       "453926  2014-02-24T19:45:00.000                  30         TRAFFIC SIGNAL   \n",
       "453927  2014-01-21T07:40:00.000                  30                  YIELD   \n",
       "453928  2014-01-18T18:14:00.000                  30            NO CONTROLS   \n",
       "453929  2013-03-03T16:48:00.000                  30         TRAFFIC SIGNAL   \n",
       "\n",
       "            device_condition weather_condition      lighting_condition  \\\n",
       "0       FUNCTIONING PROPERLY             CLEAR  DARKNESS, LIGHTED ROAD   \n",
       "1                NO CONTROLS             CLEAR  DARKNESS, LIGHTED ROAD   \n",
       "2       FUNCTIONING PROPERLY             CLEAR  DARKNESS, LIGHTED ROAD   \n",
       "3                    UNKNOWN             CLEAR                 UNKNOWN   \n",
       "4       FUNCTIONING PROPERLY             CLEAR  DARKNESS, LIGHTED ROAD   \n",
       "...                      ...               ...                     ...   \n",
       "453925           NO CONTROLS              RAIN                DAYLIGHT   \n",
       "453926  FUNCTIONING PROPERLY              RAIN                DAYLIGHT   \n",
       "453927           NO CONTROLS             CLEAR                DAYLIGHT   \n",
       "453928           NO CONTROLS             CLEAR                    DUSK   \n",
       "453929  FUNCTIONING PROPERLY             CLEAR                DAYLIGHT   \n",
       "\n",
       "                    first_crash_type                  trafficway_type  \\\n",
       "0                           REAR END                      NOT DIVIDED   \n",
       "1           SIDESWIPE SAME DIRECTION                      NOT DIVIDED   \n",
       "2               PARKED MOTOR VEHICLE                         FOUR WAY   \n",
       "3                            TURNING                      NOT DIVIDED   \n",
       "4                           REAR END                          ONE-WAY   \n",
       "...                              ...                              ...   \n",
       "453925      SIDESWIPE SAME DIRECTION                      NOT DIVIDED   \n",
       "453926                       TURNING                      NOT DIVIDED   \n",
       "453927                         ANGLE  DIVIDED - W/MEDIAN (NOT RAISED)   \n",
       "453928          PARKED MOTOR VEHICLE       DIVIDED - W/MEDIAN BARRIER   \n",
       "453929  SIDESWIPE OPPOSITE DIRECTION                      NOT DIVIDED   \n",
       "\n",
       "                 alignment  ... crash_date_est_i private_property_i  \\\n",
       "0             CURVE, LEVEL  ...              NaN                NaN   \n",
       "1       STRAIGHT AND LEVEL  ...              NaN                NaN   \n",
       "2       STRAIGHT AND LEVEL  ...              NaN                NaN   \n",
       "3       STRAIGHT AND LEVEL  ...              NaN                NaN   \n",
       "4       STRAIGHT AND LEVEL  ...              NaN                NaN   \n",
       "...                    ...  ...              ...                ...   \n",
       "453925  STRAIGHT AND LEVEL  ...              NaN                NaN   \n",
       "453926  STRAIGHT AND LEVEL  ...              NaN                NaN   \n",
       "453927  STRAIGHT AND LEVEL  ...              NaN                NaN   \n",
       "453928  STRAIGHT AND LEVEL  ...              NaN                NaN   \n",
       "453929  STRAIGHT AND LEVEL  ...              NaN                NaN   \n",
       "\n",
       "       work_zone_i work_zone_type workers_present_i lane_cnt photos_taken_i  \\\n",
       "0              NaN            NaN               NaN      NaN            NaN   \n",
       "1              NaN            NaN               NaN      NaN            NaN   \n",
       "2              NaN            NaN               NaN      NaN            NaN   \n",
       "3              NaN            NaN               NaN      NaN            NaN   \n",
       "4              NaN            NaN               NaN      NaN            NaN   \n",
       "...            ...            ...               ...      ...            ...   \n",
       "453925         NaN            NaN               NaN      NaN            NaN   \n",
       "453926         NaN            NaN               NaN      NaN            NaN   \n",
       "453927         NaN            NaN               NaN      NaN            NaN   \n",
       "453928         NaN            NaN               NaN      NaN            NaN   \n",
       "453929         NaN            NaN               NaN      2.0            NaN   \n",
       "\n",
       "       dooring_i     rd_no                   hood_label  \n",
       "0            NaN       NaN  SOUTH SHORE, GRAND CROSSING  \n",
       "1            NaN       NaN  BRIGHTON PARK,MCKINLEY PARK  \n",
       "2            NaN       NaN                       AUSTIN  \n",
       "3            NaN       NaN                   GRANT PARK  \n",
       "4            NaN       NaN                     WOODLAWN  \n",
       "...          ...       ...                          ...  \n",
       "453925       NaN  JC321679               LITTLE VILLAGE  \n",
       "453926       NaN  HZ164689                GARFIELD PARK  \n",
       "453927       NaN  HZ122950  SOUTH SHORE, GRAND CROSSING  \n",
       "453928       NaN  JB442550                    WEST LOOP  \n",
       "453929       NaN  JC172482       NORTH PARK,ALBANY PARK  \n",
       "\n",
       "[445856 rows x 50 columns]>"
      ]
     },
     "execution_count": 65,
     "metadata": {},
     "output_type": "execute_result"
    }
   ],
   "source": [
    "df = df[df.hood_label != 0]\n",
    "df.describe"
   ]
  },
  {
   "cell_type": "code",
   "execution_count": 68,
   "metadata": {},
   "outputs": [],
   "source": [
    "df = df[df['hood_label'].notna()]\n",
    "df = df[df['weather_condition'].notna()]\n",
    "df = df[df['lighting_condition'].notna()]\n",
    "df = df[df['crash_day_of_week'].notna()]\n",
    "df.dropna(subset = ['hood_label', 'weather_condition', 'lighting_condition', 'crash_day_of_week', 'damage'], inplace=True)"
   ]
  },
  {
   "cell_type": "code",
   "execution_count": 69,
   "metadata": {},
   "outputs": [],
   "source": [
    "df['crash_day_of_week'] = df['crash_day_of_week'].replace([1,2,3,4,5,6,7],['Sunday', 'Monday', 'Tuesday', 'Wednesday', 'Thursday', 'Friday', 'Saturday'])"
   ]
  },
  {
   "cell_type": "code",
   "execution_count": 81,
   "metadata": {},
   "outputs": [
    {
     "data": {
      "text/plain": [
       "Friday       72489\n",
       "Saturday     65749\n",
       "Tuesday      64135\n",
       "Thursday     63948\n",
       "Wednesday    63451\n",
       "Monday       62026\n",
       "Sunday       54058\n",
       "Name: crash_day_of_week, dtype: int64"
      ]
     },
     "execution_count": 81,
     "metadata": {},
     "output_type": "execute_result"
    }
   ],
   "source": [
    "df['crash_day_of_week'].value_counts()"
   ]
  },
  {
   "cell_type": "code",
   "execution_count": 80,
   "metadata": {},
   "outputs": [
    {
     "data": {
      "text/plain": [
       "3pm         34157\n",
       "2pm         34048\n",
       "4pm         33607\n",
       "1pm         30216\n",
       "5pm         27730\n",
       "Noon        27377\n",
       "11am        26342\n",
       "7am         24257\n",
       "10am        22650\n",
       "8am         20999\n",
       "9am         20436\n",
       "6pm         20204\n",
       "6am         19669\n",
       "7pm         15960\n",
       "8pm         14288\n",
       "9pm         13160\n",
       "10pm        11028\n",
       "5am         10081\n",
       "0            8938\n",
       "Midnight     7583\n",
       "1am          6613\n",
       "4am          6114\n",
       "2am          5401\n",
       "3am          4998\n",
       "Name: crash_hour, dtype: int64"
      ]
     },
     "execution_count": 80,
     "metadata": {},
     "output_type": "execute_result"
    }
   ],
   "source": [
    "df['crash_hour'] = df['crash_hour'].replace([1,2,3,4,5,6,7,8,9,10,11,12,13,14,15,16,17,18,19,20,21,22,23,24],['Midnight', '1am', '2am', '3am', '4am', '5am', '6am', '7am', '8am', '9am', '10am', '11am', 'Noon', '1pm', '2pm', '3pm', '4pm',\n",
    "                                                                                                                    '5pm', '6pm', '7pm', '8pm', '9pm', '10pm', '11pm'])\n",
    "df['crash_hour'].value_counts()"
   ]
  },
  {
   "cell_type": "code",
   "execution_count": 82,
   "metadata": {},
   "outputs": [],
   "source": [
    "X = pd.get_dummies(df[['hood_label', \"weather_condition\", \"lighting_condition\", \"crash_day_of_week\", \"crash_hour\"]])"
   ]
  },
  {
   "cell_type": "code",
   "execution_count": 83,
   "metadata": {},
   "outputs": [],
   "source": [
    "values = array(df[\"hood_label\"])\n",
    "\n",
    "label_encoder = LabelEncoder()\n",
    "integer_encoded = label_encoder.fit_transform(values)\n",
    "\n",
    "\n",
    "onehot_encoder = OneHotEncoder(sparse=False)\n",
    "integer_encoded = integer_encoded.reshape(len(integer_encoded), 1)\n",
    "hl_onehot_encoded = onehot_encoder.fit_transform(integer_encoded)"
   ]
  },
  {
   "cell_type": "code",
   "execution_count": 84,
   "metadata": {},
   "outputs": [],
   "source": [
    "values = array(df[\"damage\"])\n",
    "\n",
    "label_encoder = LabelEncoder()\n",
    "integer_encoded = label_encoder.fit_transform(values)\n",
    "\n",
    "\n",
    "onehot_encoder = OneHotEncoder(sparse=False)\n",
    "integer_encoded = integer_encoded.reshape(len(integer_encoded), 1)\n",
    "damage_onehot_encoded = onehot_encoder.fit_transform(integer_encoded)"
   ]
  },
  {
   "cell_type": "code",
   "execution_count": 85,
   "metadata": {},
   "outputs": [
    {
     "name": "stdout",
     "output_type": "stream",
     "text": [
      "(445856, 125)\n",
      "(445856, 3)\n"
     ]
    }
   ],
   "source": [
    "y = damage_onehot_encoded\n",
    "print(X.shape)\n",
    "print(y.shape)"
   ]
  },
  {
   "cell_type": "code",
   "execution_count": 86,
   "metadata": {},
   "outputs": [],
   "source": [
    "X_train, X_test, y_train, y_test = train_test_split(X, y, test_size=0.3, random_state=123)"
   ]
  },
  {
   "cell_type": "code",
   "execution_count": 87,
   "metadata": {},
   "outputs": [],
   "source": [
    "xgb_estimator = xgb.XGBClassifier(objective='binary:logistic')"
   ]
  },
  {
   "cell_type": "code",
   "execution_count": 88,
   "metadata": {},
   "outputs": [],
   "source": [
    "multilabel_model = MultiOutputClassifier(xgb_estimator)"
   ]
  },
  {
   "cell_type": "code",
   "execution_count": 89,
   "metadata": {},
   "outputs": [
    {
     "data": {
      "text/plain": [
       "MultiOutputClassifier(estimator=XGBClassifier(base_score=None, booster=None,\n",
       "                                              colsample_bylevel=None,\n",
       "                                              colsample_bynode=None,\n",
       "                                              colsample_bytree=None, gamma=None,\n",
       "                                              gpu_id=None,\n",
       "                                              importance_type='gain',\n",
       "                                              interaction_constraints=None,\n",
       "                                              learning_rate=None,\n",
       "                                              max_delta_step=None,\n",
       "                                              max_depth=None,\n",
       "                                              min_child_weight=None,\n",
       "                                              missing=nan,\n",
       "                                              monotone_constraints=None,\n",
       "                                              n_estimators=100, n_jobs=None,\n",
       "                                              num_parallel_tree=None,\n",
       "                                              random_state=None, reg_alpha=None,\n",
       "                                              reg_lambda=None,\n",
       "                                              scale_pos_weight=None,\n",
       "                                              subsample=None, tree_method=None,\n",
       "                                              validate_parameters=None,\n",
       "                                              verbosity=None))"
      ]
     },
     "execution_count": 89,
     "metadata": {},
     "output_type": "execute_result"
    }
   ],
   "source": [
    "multilabel_model.fit(X_train, y_train)"
   ]
  },
  {
   "cell_type": "code",
   "execution_count": 90,
   "metadata": {},
   "outputs": [
    {
     "name": "stdout",
     "output_type": "stream",
     "text": [
      "Accuracy on test data: 51.0%\n"
     ]
    }
   ],
   "source": [
    "print('Accuracy on test data: {:.1f}%'.format(accuracy_score(y_test, multilabel_model.predict(X_test))*100))"
   ]
  },
  {
   "cell_type": "code",
   "execution_count": 92,
   "metadata": {},
   "outputs": [
    {
     "data": {
      "text/plain": [
       "['damage.joblib']"
      ]
     },
     "execution_count": 92,
     "metadata": {},
     "output_type": "execute_result"
    }
   ],
   "source": [
    "from joblib import dump, load\n",
    "dump(multilabel_model, 'damage.joblib') "
   ]
  },
  {
   "cell_type": "code",
   "execution_count": 94,
   "metadata": {},
   "outputs": [
    {
     "data": {
      "text/html": [
       "<div>\n",
       "<style scoped>\n",
       "    .dataframe tbody tr th:only-of-type {\n",
       "        vertical-align: middle;\n",
       "    }\n",
       "\n",
       "    .dataframe tbody tr th {\n",
       "        vertical-align: top;\n",
       "    }\n",
       "\n",
       "    .dataframe thead th {\n",
       "        text-align: right;\n",
       "    }\n",
       "</style>\n",
       "<table border=\"1\" class=\"dataframe\">\n",
       "  <thead>\n",
       "    <tr style=\"text-align: right;\">\n",
       "      <th></th>\n",
       "      <th>hood_label_ANDERSONVILLE</th>\n",
       "      <th>hood_label_ARCHER HEIGHTS,WEST ELSDON</th>\n",
       "      <th>hood_label_ARMOUR SQUARE,CHINATOWN</th>\n",
       "      <th>hood_label_ASHBURN</th>\n",
       "      <th>hood_label_AUBURN GRESHAM</th>\n",
       "      <th>hood_label_AUSTIN</th>\n",
       "      <th>hood_label_AVALON PARK,CALUMET HEIGHTS</th>\n",
       "      <th>hood_label_BACK OF THE YARDS</th>\n",
       "      <th>hood_label_BELMONT CRAGIN,HERMOSA</th>\n",
       "      <th>hood_label_BELMONT CRAIGIN,HERMOSA</th>\n",
       "      <th>...</th>\n",
       "      <th>crash_hour_6am</th>\n",
       "      <th>crash_hour_6pm</th>\n",
       "      <th>crash_hour_7am</th>\n",
       "      <th>crash_hour_7pm</th>\n",
       "      <th>crash_hour_8am</th>\n",
       "      <th>crash_hour_8pm</th>\n",
       "      <th>crash_hour_9am</th>\n",
       "      <th>crash_hour_9pm</th>\n",
       "      <th>crash_hour_Midnight</th>\n",
       "      <th>crash_hour_Noon</th>\n",
       "    </tr>\n",
       "  </thead>\n",
       "  <tbody>\n",
       "    <tr>\n",
       "      <th>3</th>\n",
       "      <td>0</td>\n",
       "      <td>0</td>\n",
       "      <td>0</td>\n",
       "      <td>0</td>\n",
       "      <td>0</td>\n",
       "      <td>0</td>\n",
       "      <td>0</td>\n",
       "      <td>0</td>\n",
       "      <td>0</td>\n",
       "      <td>0</td>\n",
       "      <td>...</td>\n",
       "      <td>0</td>\n",
       "      <td>0</td>\n",
       "      <td>0</td>\n",
       "      <td>0</td>\n",
       "      <td>0</td>\n",
       "      <td>0</td>\n",
       "      <td>0</td>\n",
       "      <td>1</td>\n",
       "      <td>0</td>\n",
       "      <td>0</td>\n",
       "    </tr>\n",
       "    <tr>\n",
       "      <th>4</th>\n",
       "      <td>0</td>\n",
       "      <td>0</td>\n",
       "      <td>0</td>\n",
       "      <td>0</td>\n",
       "      <td>0</td>\n",
       "      <td>0</td>\n",
       "      <td>0</td>\n",
       "      <td>0</td>\n",
       "      <td>0</td>\n",
       "      <td>0</td>\n",
       "      <td>...</td>\n",
       "      <td>0</td>\n",
       "      <td>0</td>\n",
       "      <td>0</td>\n",
       "      <td>0</td>\n",
       "      <td>0</td>\n",
       "      <td>1</td>\n",
       "      <td>0</td>\n",
       "      <td>0</td>\n",
       "      <td>0</td>\n",
       "      <td>0</td>\n",
       "    </tr>\n",
       "  </tbody>\n",
       "</table>\n",
       "<p>2 rows × 125 columns</p>\n",
       "</div>"
      ],
      "text/plain": [
       "   hood_label_ANDERSONVILLE  hood_label_ARCHER HEIGHTS,WEST ELSDON  \\\n",
       "3                         0                                      0   \n",
       "4                         0                                      0   \n",
       "\n",
       "   hood_label_ARMOUR SQUARE,CHINATOWN  hood_label_ASHBURN  \\\n",
       "3                                   0                   0   \n",
       "4                                   0                   0   \n",
       "\n",
       "   hood_label_AUBURN GRESHAM  hood_label_AUSTIN  \\\n",
       "3                          0                  0   \n",
       "4                          0                  0   \n",
       "\n",
       "   hood_label_AVALON PARK,CALUMET HEIGHTS  hood_label_BACK OF THE YARDS  \\\n",
       "3                                       0                             0   \n",
       "4                                       0                             0   \n",
       "\n",
       "   hood_label_BELMONT CRAGIN,HERMOSA  hood_label_BELMONT CRAIGIN,HERMOSA  ...  \\\n",
       "3                                  0                                   0  ...   \n",
       "4                                  0                                   0  ...   \n",
       "\n",
       "   crash_hour_6am  crash_hour_6pm  crash_hour_7am  crash_hour_7pm  \\\n",
       "3               0               0               0               0   \n",
       "4               0               0               0               0   \n",
       "\n",
       "   crash_hour_8am  crash_hour_8pm  crash_hour_9am  crash_hour_9pm  \\\n",
       "3               0               0               0               1   \n",
       "4               0               1               0               0   \n",
       "\n",
       "   crash_hour_Midnight  crash_hour_Noon  \n",
       "3                    0                0  \n",
       "4                    0                0  \n",
       "\n",
       "[2 rows x 125 columns]"
      ]
     },
     "execution_count": 94,
     "metadata": {},
     "output_type": "execute_result"
    }
   ],
   "source": [
    "test = X.iloc[3:5]\n",
    "test"
   ]
  },
  {
   "cell_type": "code",
   "execution_count": 95,
   "metadata": {},
   "outputs": [],
   "source": [
    "damage = load('damage.joblib') "
   ]
  },
  {
   "cell_type": "code",
   "execution_count": 96,
   "metadata": {},
   "outputs": [
    {
     "data": {
      "text/plain": [
       "[array([[0.8925331 , 0.10746686],\n",
       "        [0.88090926, 0.11909076]], dtype=float32),\n",
       " array([[0.7185876 , 0.28141242],\n",
       "        [0.7550169 , 0.24498306]], dtype=float32),\n",
       " array([[0.39352572, 0.6064743 ],\n",
       "        [0.37625992, 0.6237401 ]], dtype=float32)]"
      ]
     },
     "execution_count": 96,
     "metadata": {},
     "output_type": "execute_result"
    }
   ],
   "source": [
    "damage.predict_proba(test)"
   ]
  },
  {
   "cell_type": "code",
   "execution_count": 98,
   "metadata": {},
   "outputs": [],
   "source": [
    "test.to_csv('test.csv')"
   ]
  },
  {
   "cell_type": "code",
   "execution_count": null,
   "metadata": {},
   "outputs": [],
   "source": []
  }
 ],
 "metadata": {
  "kernelspec": {
   "display_name": "Python 3",
   "language": "python",
   "name": "python3"
  },
  "language_info": {
   "codemirror_mode": {
    "name": "ipython",
    "version": 3
   },
   "file_extension": ".py",
   "mimetype": "text/x-python",
   "name": "python",
   "nbconvert_exporter": "python",
   "pygments_lexer": "ipython3",
   "version": "3.7.6"
  }
 },
 "nbformat": 4,
 "nbformat_minor": 4
}
