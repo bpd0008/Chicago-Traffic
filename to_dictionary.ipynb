{
 "cells": [
  {
   "cell_type": "code",
   "execution_count": null,
   "metadata": {},
   "outputs": [],
   "source": [
    "# Import dependencies\n",
    "from bs4 import BeautifulSoup as bs\n",
    "from splinter import Browser\n",
    "import requests\n",
    "import pymongo\n",
    "import time\n",
    "import pandas as pd"
   ]
  },
  {
   "cell_type": "code",
   "execution_count": null,
   "metadata": {},
   "outputs": [],
   "source": [
    "# Initialize PyMongo to work with MongoDBs\n",
    "conn = 'mongodb://localhost:27017'\n",
    "client = pymongo.MongoClient(conn)"
   ]
  },
  {
   "cell_type": "code",
   "execution_count": null,
   "metadata": {},
   "outputs": [],
   "source": [
    "# Define database and collection\n",
    "db = client.acccidents\n",
    "collection = db.items"
   ]
  },
  {
   "cell_type": "code",
   "execution_count": null,
   "metadata": {},
   "outputs": [],
   "source": [
    "url = 'index.html'\n",
    "browser.visit(url)\n",
    "\n",
    "date = []\n",
    "month = []\n",
    "nieghborhood = []\n",
    "weather = []\n",
    "\n",
    "# Parse HTML with Beautiful Soup\n",
    "hem_html = browser.html\n",
    "soup = bs(hem_html, 'lxml')\n",
    "\n",
    "# results are returned as an iterable list\n",
    "results = soup.find_all('div', class_='description')\n",
    "\n",
    "# Loop through returned results\n",
    "for i in results:\n",
    "    # Error handling\n",
    "    try:\n",
    "        # Identify and return title of description\n",
    "        input_date = i.input.find('datetime').text\n",
    "        \n",
    "        input_month = i.input.find('month').text\n",
    "        \n",
    "        input_neighborhood = i.input.find('neighborhood').text\n",
    "        \n",
    "        input_weather = i.input.find('weather').text\n",
    "   \n",
    "        #add titles and links to a list to reference later\n",
    "        date.append(input_date)\n",
    "        month.append(input_month)\n",
    "        neighborhood.append(input_neighborhood)\n",
    "        weather.append(input_weather)\n",
    "        \n",
    "        # Run only if title, description, and link are available\n",
    "        if (input_date and input_month and input_neighborhood and input_weather):\n",
    "            # Dictionary to be inserted as a MongoDB document\n",
    "            post = {\n",
    "                'date': input_date,\n",
    "                'month': input_month,\n",
    "                'neighborhood': input_neighborhood,\n",
    "                'weather': input_weather\n",
    "            }\n",
    "\n",
    "            collection.insert_one(post)\n",
    "\n",
    "    except Exception as e:\n",
    "        print(e)\n",
    "\n",
    "print(image_titles)\n",
    "print(image_links)"
   ]
  }
 ],
 "metadata": {
  "kernelspec": {
   "display_name": "Python 3",
   "language": "python",
   "name": "python3"
  },
  "language_info": {
   "codemirror_mode": {
    "name": "ipython",
    "version": 3
   },
   "file_extension": ".py",
   "mimetype": "text/x-python",
   "name": "python",
   "nbconvert_exporter": "python",
   "pygments_lexer": "ipython3",
   "version": "3.8.3"
  }
 },
 "nbformat": 4,
 "nbformat_minor": 4
}
