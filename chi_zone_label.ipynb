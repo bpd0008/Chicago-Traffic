{
 "cells": [
  {
   "cell_type": "markdown",
   "metadata": {},
   "source": [
    "#### CREDIT TO @JKGIESLER ON GITHUB.COM"
   ]
  },
  {
   "cell_type": "code",
   "execution_count": 1,
   "metadata": {},
   "outputs": [],
   "source": [
    "import json\n",
    "import os\n",
    "from collections import namedtuple\n",
    "import sys\n",
    "from math import log,tan,pi,radians\n",
    "import pandas as pd\n",
    "from sodapy import Socrata\n",
    "from config import CHI_API_KEY\n"
   ]
  },
  {
   "cell_type": "code",
   "execution_count": 2,
   "metadata": {},
   "outputs": [],
   "source": [
    "client = Socrata(\"data.cityofchicago.org\", app_token = CHI_API_KEY)\n",
    "\n",
    "results = client.get(\"85ca-t3if\", limit= 10)\n",
    "results_df = pd.DataFrame.from_records(results)"
   ]
  },
  {
   "cell_type": "code",
   "execution_count": 3,
   "metadata": {},
   "outputs": [
    {
     "name": "stdout",
     "output_type": "stream",
     "text": [
      "crash_record_id\n",
      "crash_date\n",
      "posted_speed_limit\n",
      "traffic_control_device\n",
      "device_condition\n",
      "weather_condition\n",
      "lighting_condition\n",
      "first_crash_type\n",
      "trafficway_type\n",
      "alignment\n",
      "roadway_surface_cond\n",
      "road_defect\n",
      "report_type\n",
      "crash_type\n",
      "damage\n",
      "date_police_notified\n",
      "prim_contributory_cause\n",
      "sec_contributory_cause\n",
      "street_no\n",
      "street_direction\n",
      "street_name\n",
      "beat_of_occurrence\n",
      "num_units\n",
      "most_severe_injury\n",
      "injuries_total\n",
      "injuries_fatal\n",
      "injuries_incapacitating\n",
      "injuries_non_incapacitating\n",
      "injuries_reported_not_evident\n",
      "injuries_no_indication\n",
      "injuries_unknown\n",
      "crash_hour\n",
      "crash_day_of_week\n",
      "crash_month\n",
      "latitude\n",
      "longitude\n",
      "location\n",
      "hit_and_run_i\n",
      "intersection_related_i\n"
     ]
    }
   ],
   "source": [
    "\n",
    "\n",
    "for col in results_df.columns: \n",
    "    print(col) "
   ]
  },
  {
   "cell_type": "code",
   "execution_count": 4,
   "metadata": {},
   "outputs": [],
   "source": [
    "Pt = namedtuple('Pt','x,y')\n",
    "Edge = namedtuple('Edge','a,b')\n",
    "Poly = namedtuple('Poly','name,edges')\n",
    "_eps = 1e-5\n",
    "_huge = sys.float_info.max\n",
    "_tiny = sys.float_info.min"
   ]
  },
  {
   "cell_type": "code",
   "execution_count": 5,
   "metadata": {},
   "outputs": [],
   "source": [
    "def load_json():\n",
    "\tfile_in = open(os.getcwd()+\"/Neighborhoods_2012_polygons.json\")\n",
    "\td = json.load(file_in)\n",
    "\treturn d"
   ]
  },
  {
   "cell_type": "code",
   "execution_count": 6,
   "metadata": {},
   "outputs": [],
   "source": [
    "def spherical_mercator_projection(longitude,latitude):\n",
    "    x = -longitude\n",
    "    y = log(tan(radians(pi/4 + latitude/2)))\n",
    "    return (x,y)"
   ]
  },
  {
   "cell_type": "code",
   "execution_count": 7,
   "metadata": {},
   "outputs": [],
   "source": [
    "def rayintersectseg(p, edge):\n",
    "    a,b = edge\n",
    "    if a.y > b.y:\n",
    "        a,b = b,a\n",
    "    if p.y == a.y or p.y == b.y:\n",
    "        p = Pt(p.x, p.y + _eps)\n",
    "    intersect = False\n",
    " \n",
    "    if (p.y > b.y or p.y < a.y) or (\n",
    "        p.x > max(a.x, b.x)):\n",
    "        return False\n",
    " \n",
    "    if p.x < min(a.x, b.x):\n",
    "        intersect = True\n",
    "    else:\n",
    "        if abs(a.x - b.x) > _tiny:\n",
    "            m_red = (b.y - a.y) / float(b.x - a.x)\n",
    "        else:\n",
    "            m_red = _huge\n",
    "        if abs(a.x - p.x) > _tiny:\n",
    "            m_blue = (p.y - a.y) / float(p.x - a.x)\n",
    "        else:\n",
    "            m_blue = _huge\n",
    "        \n",
    "        intersect = m_blue >= m_red\n",
    "    return intersect"
   ]
  },
  {
   "cell_type": "code",
   "execution_count": 8,
   "metadata": {},
   "outputs": [],
   "source": [
    "def is_odd(x): \n",
    "\treturn x%2 == 1\n",
    "\n",
    "def ispointinside(p, poly):\n",
    "    ln = len(poly)\n",
    "    return is_odd(sum(rayintersectseg(p, edge)\n",
    "                    for edge in poly.edges ))"
   ]
  },
  {
   "cell_type": "code",
   "execution_count": 9,
   "metadata": {},
   "outputs": [],
   "source": [
    "def get_all_neighborhoods():\n",
    "\td = load_json()\n",
    "\tshape_list=[]\n",
    "\tfor shape_idx in range(len(d['features'])):\n",
    "\t\tname = d['features'][shape_idx]['properties']['SEC_NEIGH']\n",
    "\n",
    "\t\tedges =[]\n",
    "\t\tfor coordinate_idx in range(len(d['features'][shape_idx]['geometry']['coordinates'][0])-1):\n",
    "\t\t\tlon_1 = d['features'][shape_idx]['geometry']['coordinates'][0][coordinate_idx][0]\n",
    "\t\t\tlat_1 = d['features'][shape_idx]['geometry']['coordinates'][0][coordinate_idx][1]\n",
    "\t\t\t\n",
    "\t\t\tlon_2 = d['features'][shape_idx]['geometry']['coordinates'][0][coordinate_idx+1][0]\n",
    "\t\t\tlat_2 = d['features'][shape_idx]['geometry']['coordinates'][0][coordinate_idx+1][1]\n",
    "\t\t\t\n",
    "\t\t\tx1,y1 = spherical_mercator_projection(lon_1,lat_1)\n",
    "\t\t\tx2,y2 = spherical_mercator_projection(lon_2,lat_2)\n",
    "\t\t\tedges.append(Edge(a=Pt(x=x1,y=y1),b=Pt(x=x2,y=y2)))\n",
    "\t\t\n",
    "\t\tshape_list.append(Poly(name=name,edges=tuple(edges)))\n",
    "\treturn shape_list"
   ]
  },
  {
   "cell_type": "code",
   "execution_count": 10,
   "metadata": {},
   "outputs": [],
   "source": [
    "def find_neighborhood(test_long,test_lat,all_neighborhoods):\n",
    "\tx,y = spherical_mercator_projection(test_long,test_lat)\n",
    "\tfor neighborhood in all_neighborhoods:\n",
    "\t\tcorrect_neighborhood = ispointinside(Pt(x=x,y=y),neighborhood)\n",
    "\t\tif correct_neighborhood:\n",
    "\t\t\treturn neighborhood.name\n"
   ]
  },
  {
   "cell_type": "code",
   "execution_count": 23,
   "metadata": {},
   "outputs": [
    {
     "data": {
      "text/plain": [
       "0               CHATHAM,BURNSIDE\n",
       "1                WASHINGTON PARK\n",
       "2    SOUTH SHORE, GRAND CROSSING\n",
       "3                           LOOP\n",
       "4    WASHINGTON HEIGHTS,ROSELAND\n",
       "5                    BRONZEVILLE\n",
       "6                  STREETERVILLE\n",
       "7    SOUTH SHORE, GRAND CROSSING\n",
       "8                           LOOP\n",
       "9                    BRONZEVILLE\n",
       "Name: hood_label, dtype: object"
      ]
     },
     "execution_count": 23,
     "metadata": {},
     "output_type": "execute_result"
    }
   ],
   "source": [
    "neighborhood = []\n",
    "for row in results_df[\"longitude\"]:\n",
    "    test_long = float(row)\n",
    "for row_1 in results_df[\"latitude\"]:\n",
    "    test_lat = float(row_1)\n",
    "    neighborhood.append(find_neighborhood(test_long,test_lat,all_neighborhoods))\n",
    "\n",
    "results_df['hood_label'] = neighborhood\n",
    "results_df['hood_label']"
   ]
  },
  {
   "cell_type": "code",
   "execution_count": null,
   "metadata": {},
   "outputs": [],
   "source": []
  },
  {
   "cell_type": "code",
   "execution_count": 12,
   "metadata": {},
   "outputs": [],
   "source": [
    "# df = pd.DataFrame(df1['insert_column'])\n",
    "\n"
   ]
  },
  {
   "cell_type": "code",
   "execution_count": 13,
   "metadata": {},
   "outputs": [],
   "source": [
    "# lat = []\n",
    "# lon = []\n",
    "\n",
    "# for row in results_df['geo']:\n",
    "#     try:\n",
    "#         lat.append(row.split(',')[0])\n",
    "#         lon.append(row.split(',')[1])\n",
    "#     except:\n",
    "#         lat.append(np.NaN)\n",
    "#         lon.append(np.NaN)\n",
    "\n",
    "# results_df['latitude'] = lat\n",
    "# results_df['longitude'] = lon"
   ]
  },
  {
   "cell_type": "code",
   "execution_count": 25,
   "metadata": {},
   "outputs": [],
   "source": [
    "# neighborhood = []\n",
    "\n",
    "# for row in results_df:\n",
    "#     try:\n",
    "#         a = find_neighborhood(results_df[\"longitude\"],results_df[\"latitude\"],all_neighborhoods)\n",
    "#         neighborhood.append()\n",
    "#     except:\n",
    "#         KeyError\n",
    "\n",
    "# results_df['hood_label'] = neighborhood\n"
   ]
  },
  {
   "cell_type": "code",
   "execution_count": 26,
   "metadata": {},
   "outputs": [],
   "source": [
    "# results_df.dtypes\n",
    "# results_df['longitude'].astype(object).astype(float)\n",
    "# results_df['latitude'].astype(object).astype(float)"
   ]
  },
  {
   "cell_type": "code",
   "execution_count": 27,
   "metadata": {},
   "outputs": [],
   "source": [
    "# all_neighborhoods = get_all_neighborhoods()\n",
    "# neighborhood = []\n",
    "# results_df['longitude'].astype(object).astype(float)\n",
    "# results_df['latitude'].astype(object).astype(float)\n",
    "\n",
    "\n",
    "    \n",
    "# for row in results_df[\"longitude\"]:\n",
    "#     test_long = float(row)\n",
    "    \n",
    "#     print(test_long)\n",
    "    "
   ]
  },
  {
   "cell_type": "code",
   "execution_count": null,
   "metadata": {},
   "outputs": [],
   "source": []
  },
  {
   "cell_type": "code",
   "execution_count": null,
   "metadata": {},
   "outputs": [],
   "source": []
  },
  {
   "cell_type": "code",
   "execution_count": null,
   "metadata": {},
   "outputs": [],
   "source": []
  },
  {
   "cell_type": "code",
   "execution_count": null,
   "metadata": {},
   "outputs": [],
   "source": []
  },
  {
   "cell_type": "code",
   "execution_count": null,
   "metadata": {},
   "outputs": [],
   "source": []
  },
  {
   "cell_type": "code",
   "execution_count": null,
   "metadata": {},
   "outputs": [],
   "source": []
  },
  {
   "cell_type": "code",
   "execution_count": null,
   "metadata": {},
   "outputs": [],
   "source": []
  },
  {
   "cell_type": "code",
   "execution_count": 28,
   "metadata": {},
   "outputs": [],
   "source": [
    "\n",
    "# neighborhood.append(find_neighborhood(test_long,test_lat,all_neighborhoods))\n",
    "    \n",
    "# print(neighborhood)\n",
    "    \n",
    "\n",
    "# results_df['hood_label'] = neighborhood\n",
    "\n",
    "# for row in results_df\n",
    "# #     test_long = (results_df[\"longitude\"])\n",
    "# #     test_lat = (results_df[\"latitude\"])\n",
    "#     neighborhood.append(find_neighborhood(results_df[\"longitude\"],results_df[\"latitude\"],all_neighborhoods))\n",
    "    \n",
    "# print(neighborhood)"
   ]
  },
  {
   "cell_type": "code",
   "execution_count": 29,
   "metadata": {},
   "outputs": [],
   "source": [
    "# all_neighborhoods = get_all_neighborhoods()\n",
    "# neighborhood = []\n",
    "# results_df['longitude'].astype(object).astype(float)\n",
    "# results_df['latitude'].astype(object).astype(float)\n",
    "\n",
    "# for row in results_df:\n",
    "#      test_long = (results_df[\"longitude\"])\n",
    "#      test_lat = (results_df[\"latitude\"])\n",
    "#     find_neighborhood(results_df[\"longitude\"],results_df[\"latitude\"],all_neighborhoods)\n",
    "    \n",
    "# print(neighborhood)"
   ]
  },
  {
   "cell_type": "code",
   "execution_count": null,
   "metadata": {},
   "outputs": [],
   "source": []
  }
 ],
 "metadata": {
  "kernelspec": {
   "display_name": "Python 3",
   "language": "python",
   "name": "python3"
  },
  "language_info": {
   "codemirror_mode": {
    "name": "ipython",
    "version": 3
   },
   "file_extension": ".py",
   "mimetype": "text/x-python",
   "name": "python",
   "nbconvert_exporter": "python",
   "pygments_lexer": "ipython3",
   "version": "3.7.6"
  }
 },
 "nbformat": 4,
 "nbformat_minor": 4
}
